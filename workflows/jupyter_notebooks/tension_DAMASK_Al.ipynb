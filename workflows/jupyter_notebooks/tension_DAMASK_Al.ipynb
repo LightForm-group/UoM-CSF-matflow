{
 "cells": [
  {
   "cell_type": "markdown",
   "metadata": {},
   "source": [
    "# Demonstration of `tension_DAMASK_Al` workflow"
   ]
  },
  {
   "cell_type": "code",
   "execution_count": null,
   "metadata": {},
   "outputs": [],
   "source": [
    "from pathlib import Path\n",
    "\n",
    "from matflow import load_workflow\n",
    "from plotly.graph_objects import FigureWidget"
   ]
  },
  {
   "cell_type": "markdown",
   "metadata": {},
   "source": [
    "## Load workflow"
   ]
  },
  {
   "cell_type": "code",
   "execution_count": null,
   "metadata": {},
   "outputs": [],
   "source": [
    "workflow_path = list(Path('../completed_workflows').glob('tension_DAMASK_Al*'))[0]\n",
    "workflow = load_workflow(workflow_path)\n",
    "print(workflow)"
   ]
  },
  {
   "cell_type": "code",
   "execution_count": null,
   "metadata": {},
   "outputs": [],
   "source": [
    "vol_elem_resp = workflow.tasks.simulate_volume_element_loading.elements[0].outputs.volume_element_response\n",
    "strain = vol_elem_resp['phase_data']['vol_avg_equivalent_strain']['data']\n",
    "stress = vol_elem_resp['phase_data']['vol_avg_equivalent_stress']['data']"
   ]
  },
  {
   "cell_type": "markdown",
   "metadata": {},
   "source": [
    "## Plot the stress-strain curve"
   ]
  },
  {
   "cell_type": "code",
   "execution_count": null,
   "metadata": {},
   "outputs": [],
   "source": [
    "fig = FigureWidget()\n",
    "fig.add_scatter(x=strain, y=stress, mode='markers+lines', text=list(range(len(strain))))\n",
    "fig.layout.update(xaxis_title='Stain', yaxis_title='Stress /Pa', width=550)\n",
    "fig"
   ]
  },
  {
   "cell_type": "code",
   "execution_count": null,
   "metadata": {},
   "outputs": [],
   "source": []
  }
 ],
 "metadata": {
  "kernelspec": {
   "display_name": "Python [conda env:matflow_env]",
   "language": "python",
   "name": "conda-env-matflow_env-py"
  },
  "language_info": {
   "codemirror_mode": {
    "name": "ipython",
    "version": 3
   },
   "file_extension": ".py",
   "mimetype": "text/x-python",
   "name": "python",
   "nbconvert_exporter": "python",
   "pygments_lexer": "ipython3",
   "version": "3.8.2"
  }
 },
 "nbformat": 4,
 "nbformat_minor": 4
}
