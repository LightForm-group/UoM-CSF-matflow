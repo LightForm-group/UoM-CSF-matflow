{
 "cells": [
  {
   "cell_type": "markdown",
   "metadata": {},
   "source": [
    "# Demonstration of single crystal parameter fitting workflow"
   ]
  },
  {
   "cell_type": "code",
   "execution_count": null,
   "metadata": {},
   "outputs": [],
   "source": [
    "from pathlib import Path\n",
    "\n",
    "from matflow import load_workflow\n",
    "from formable.levenberg_marquardt import LMFitter\n",
    "from formable.tensile_test import TensileTest"
   ]
  },
  {
   "cell_type": "markdown",
   "metadata": {},
   "source": [
    "## Load workflow"
   ]
  },
  {
   "cell_type": "code",
   "execution_count": null,
   "metadata": {},
   "outputs": [],
   "source": [
    "workflow_path = list(Path('../completed_workflows').glob('single_crystal_parameter_fitting*'))[0]\n",
    "workflow = load_workflow(workflow_path)\n",
    "print(workflow)"
   ]
  },
  {
   "cell_type": "code",
   "execution_count": null,
   "metadata": {},
   "outputs": [],
   "source": [
    "optimise_task = workflow.tasks[-1]"
   ]
  },
  {
   "cell_type": "markdown",
   "metadata": {},
   "source": [
    "## Show the experimental stress-strain data"
   ]
  },
  {
   "cell_type": "code",
   "execution_count": null,
   "metadata": {},
   "outputs": [],
   "source": [
    "exp_tensile_test_dict = workflow.tasks[3].elements[0].outputs.tensile_test\n",
    "exp_tensile_test = TensileTest(**exp_tensile_test_dict)\n",
    "exp_tensile_test.show()"
   ]
  },
  {
   "cell_type": "markdown",
   "metadata": {},
   "source": [
    "## Show the convergence of the stress-strain curve with iterations"
   ]
  },
  {
   "cell_type": "code",
   "execution_count": null,
   "metadata": {},
   "outputs": [],
   "source": [
    "# Different elements in the `optimise_single_crystal_parameters` task correspond to different optimisation iterations:\n",
    "final_iteration_element = optimise_task.get_elements_from_iteration(-1)[0]\n",
    "\n",
    "# Load an `LMFitter` object from the element outputs:\n",
    "lm_fitter_dict = final_iteration_element.outputs.levenberg_marquardt_fitter\n",
    "lm_fitter = LMFitter.from_dict(lm_fitter_dict)\n",
    "lm_fitter.show()"
   ]
  },
  {
   "cell_type": "markdown",
   "metadata": {},
   "source": [
    "## Initial trial parameters"
   ]
  },
  {
   "cell_type": "code",
   "execution_count": null,
   "metadata": {},
   "outputs": [],
   "source": [
    "initial_parameters = workflow.tasks[-2].elements[0].inputs.single_crystal_parameters\n",
    "print(initial_parameters)"
   ]
  },
  {
   "cell_type": "markdown",
   "metadata": {},
   "source": [
    "## Final optimised parameters"
   ]
  },
  {
   "cell_type": "code",
   "execution_count": null,
   "metadata": {},
   "outputs": [],
   "source": [
    "final_parameters = final_iteration_element.outputs.single_crystal_parameters\n",
    "print(final_parameters)"
   ]
  }
 ],
 "metadata": {
  "kernelspec": {
   "display_name": "Python [conda env:matflow_env]",
   "language": "python",
   "name": "conda-env-matflow_env-py"
  },
  "language_info": {
   "codemirror_mode": {
    "name": "ipython",
    "version": 3
   },
   "file_extension": ".py",
   "mimetype": "text/x-python",
   "name": "python",
   "nbconvert_exporter": "python",
   "pygments_lexer": "ipython3",
   "version": "3.8.2"
  }
 },
 "nbformat": 4,
 "nbformat_minor": 4
}
