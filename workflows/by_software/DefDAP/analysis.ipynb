{
 "cells": [
  {
   "cell_type": "code",
   "execution_count": null,
   "metadata": {},
   "outputs": [],
   "source": [
    "from pathlib import Path\n",
    "\n",
    "from matflow import load_workflow\n",
    "\n",
    "import numpy as np\n",
    "import matplotlib.pyplot as plt\n",
    "\n",
    "%matplotlib widget"
   ]
  },
  {
   "cell_type": "markdown",
   "metadata": {},
   "source": [
    "## Load workflow"
   ]
  },
  {
   "cell_type": "code",
   "execution_count": null,
   "metadata": {},
   "outputs": [],
   "source": [
    "workflow_path = Path('/home/mike/Desktop/csf-home/scratch/RVE_extrusion_2021-05-03-235442/')\n",
    "workflow = load_workflow(workflow_path)\n",
    "\n",
    "sim_task = workflow.tasks.simulate_volume_element_loading\n",
    "vol_elem_resp = sim_task.elements[0].outputs.volume_element_response"
   ]
  },
  {
   "cell_type": "markdown",
   "metadata": {},
   "source": [
    "### Plot stress strain curve"
   ]
  },
  {
   "cell_type": "code",
   "execution_count": null,
   "metadata": {},
   "outputs": [],
   "source": [
    "mean_strain = vol_elem_resp['incremental_data']['vol_avg_strain']['data']\n",
    "mean_stress = vol_elem_resp['incremental_data']['vol_avg_stress']['data']"
   ]
  },
  {
   "cell_type": "code",
   "execution_count": null,
   "metadata": {},
   "outputs": [],
   "source": [
    "plt.figure()\n",
    "plt.plot(mean_strain[:, 0, 0], mean_stress[:, 0, 0]/1e6)\n",
    "\n",
    "plt.xlabel('Strain')\n",
    "plt.ylabel('Stress (MPa)')\n",
    "plt.xlim([0, None])\n",
    "plt.ylim([0, None])"
   ]
  },
  {
   "cell_type": "markdown",
   "metadata": {},
   "source": [
    "### Plot stress map"
   ]
  },
  {
   "cell_type": "code",
   "execution_count": null,
   "metadata": {},
   "outputs": [],
   "source": [
    "stress = vol_elem_resp['field_data']['sigma']\n",
    "print(stress['meta']['increments'])\n",
    "stress = stress['data']\n",
    "print(stress.shape)"
   ]
  },
  {
   "cell_type": "code",
   "execution_count": null,
   "metadata": {},
   "outputs": [],
   "source": [
    "inc = 2\n",
    "z_layer = 2\n",
    "tensor_comp = (0, 0)\n",
    "buff_size_xy = (4, 4)\n",
    "\n",
    "map_slice = (\n",
    "    inc, \n",
    "    slice(buff_size_xy[0], -buff_size_xy[0]), \n",
    "    slice(buff_size_xy[1], -buff_size_xy[1]), \n",
    "    z_layer\n",
    ") + tensor_comp\n",
    "\n",
    "plt.figure()\n",
    "plt.imshow(stress[map_slice].T*1e-6, vmin=250, vmax=400)\n",
    "plt.colorbar(label='Stress (MPa)')\n",
    "plt.xticks([])\n",
    "plt.yticks([])\n",
    "\n",
    "plt.tight_layout()"
   ]
  },
  {
   "cell_type": "markdown",
   "metadata": {},
   "source": [
    "### Plot strain map"
   ]
  },
  {
   "cell_type": "code",
   "execution_count": null,
   "metadata": {},
   "outputs": [],
   "source": [
    "strain = vol_elem_resp['field_data']['epsilon_U^2(F)']\n",
    "print(strain['meta']['increments'])\n",
    "strain = strain['data']\n",
    "print(strain.shape)"
   ]
  },
  {
   "cell_type": "code",
   "execution_count": null,
   "metadata": {},
   "outputs": [],
   "source": [
    "inc = 2\n",
    "z_layer = 2\n",
    "tensor_comp = (0, 0)\n",
    "buff_size_xy = (4, 4)\n",
    "\n",
    "map_slice = (\n",
    "    inc, \n",
    "    slice(buff_size_xy[0], -buff_size_xy[0]), \n",
    "    slice(buff_size_xy[1], -buff_size_xy[1]), \n",
    "    z_layer\n",
    ") + tensor_comp\n",
    "\n",
    "plt.figure()\n",
    "plt.imshow(strain[map_slice].T)\n",
    "plt.colorbar(label='Strain')\n",
    "plt.xticks([])\n",
    "plt.yticks([])\n",
    "\n",
    "plt.tight_layout()"
   ]
  },
  {
   "cell_type": "markdown",
   "metadata": {},
   "source": [
    "### Plot grain average stress"
   ]
  },
  {
   "cell_type": "code",
   "execution_count": null,
   "metadata": {},
   "outputs": [],
   "source": [
    "stress_grain = vol_elem_resp['grain_data']['sigma']\n",
    "print(stress_grain['meta']['increments'])\n",
    "stress_grain = stress_grain['data']\n",
    "print(stress_grain.shape)"
   ]
  },
  {
   "cell_type": "code",
   "execution_count": null,
   "metadata": {},
   "outputs": [],
   "source": [
    "tensor_comp = (0, 0)\n",
    "\n",
    "plt.figure()\n",
    "for inc in range(3):\n",
    "    # Remove last 2 grain of air and iso Ti\n",
    "    data_slice = (inc, slice(None, -2)) + tensor_comp\n",
    "\n",
    "    plt.hist(stress_grain[data_slice]*1e-6, histtype='step', density=True, label=f'inc {inc}')\n",
    "    \n",
    "plt.legend()\n",
    "plt.xlabel('Stress (MPa)')\n",
    "plt.ylabel('Normalised frequency')"
   ]
  },
  {
   "cell_type": "markdown",
   "metadata": {},
   "source": [
    "### Plot grain average orientations"
   ]
  },
  {
   "cell_type": "code",
   "execution_count": null,
   "metadata": {},
   "outputs": [],
   "source": [
    "from defdap.quat import Quat"
   ]
  },
  {
   "cell_type": "code",
   "execution_count": null,
   "metadata": {},
   "outputs": [],
   "source": [
    "ori_grain = vol_elem_resp['grain_data']['O']\n",
    "print(ori_grain['meta']['increments'])\n",
    "ori_grain = ori_grain['data']['quaternions']\n",
    "print(ori_grain.shape)"
   ]
  },
  {
   "cell_type": "code",
   "execution_count": null,
   "metadata": {},
   "outputs": [],
   "source": [
    "# Swap to P=+1\n",
    "ori_grain[:, :, 1:] *= -1\n",
    "# Remove last 2 grain of air and iso Ti\n",
    "ori_grain = ori_grain[:, :-2, :]"
   ]
  },
  {
   "cell_type": "code",
   "execution_count": null,
   "metadata": {},
   "outputs": [],
   "source": [
    "quat_grain = np.empty(ori_grain.shape[:-1], dtype=Quat)\n",
    "\n",
    "for idx in np.ndindex(quat_grain.shape):\n",
    "    quat_grain[idx] = Quat(ori_grain[idx])"
   ]
  },
  {
   "cell_type": "code",
   "execution_count": null,
   "metadata": {},
   "outputs": [],
   "source": [
    "inc = 0\n",
    "direction = np.array([1, 0, 0])\n",
    "\n",
    "Quat.plotIPF(quat_grain[inc], direction, 'cubic')"
   ]
  },
  {
   "cell_type": "code",
   "execution_count": null,
   "metadata": {},
   "outputs": [],
   "source": []
  }
 ],
 "metadata": {
  "kernelspec": {
   "display_name": "Python 3",
   "language": "python",
   "name": "python3"
  },
  "language_info": {
   "codemirror_mode": {
    "name": "ipython",
    "version": 3
   },
   "file_extension": ".py",
   "mimetype": "text/x-python",
   "name": "python",
   "nbconvert_exporter": "python",
   "pygments_lexer": "ipython3",
   "version": "3.7.8"
  }
 },
 "nbformat": 4,
 "nbformat_minor": 4
}
