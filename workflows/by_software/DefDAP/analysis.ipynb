{
 "cells": [
  {
   "cell_type": "code",
   "execution_count": 1,
   "metadata": {},
   "outputs": [],
   "source": [
    "from pathlib import Path\n",
    "\n",
    "from matflow import load_workflow\n",
    "# from plotly.graph_objects import FigureWidget\n",
    "import matplotlib.pyplot as plt\n",
    "import matplotlib as mpl\n",
    "\n",
    "%matplotlib widget"
   ]
  },
  {
   "cell_type": "markdown",
   "metadata": {},
   "source": [
    "## Load workflow"
   ]
  },
  {
   "cell_type": "code",
   "execution_count": 2,
   "metadata": {},
   "outputs": [
    {
     "name": "stdout",
     "output_type": "stream",
     "text": [
      "Loading matflow config from /home/mike/.matflow/config.yml\n",
      "Loading task schemas from 1 file(s)...OK!\n",
      "Loading software definitions from 1 file(s)...OK!\n"
     ]
    },
    {
     "name": "stderr",
     "output_type": "stream",
     "text": [
      "/opt/anaconda3/lib/python3.7/site-packages/matflow/models/construction.py:491: UserWarning: Input parameter \"homog_label\" for task \"generate_volume_element\" with task context \"\" has both a local value and a non-local value. The non-local value is derived from an input of task \"modify_volume_element\" with task context \"\". The local value will be used.\n",
      "  warn(msg)\n",
      "/opt/anaconda3/lib/python3.7/site-packages/matflow/models/construction.py:491: UserWarning: Input parameter \"homog_label\" for task \"modify_volume_element\" with task context \"\" has both a local value and a non-local value. The non-local value is derived from an input of task \"generate_volume_element\" with task context \"\". The local value will be used.\n",
      "  warn(msg)\n"
     ]
    }
   ],
   "source": [
    "workflow_path = Path('/home/mike/Desktop/csf-home/scratch/RVE_extrusion_2021-01-28-130944/')\n",
    "workflow = load_workflow(workflow_path)"
   ]
  },
  {
   "cell_type": "code",
   "execution_count": 3,
   "metadata": {},
   "outputs": [
    {
     "data": {
      "text/plain": [
       "[Task(name='load_microstructure', method='EBSD+DIC', software='defdap'),\n",
       " Task(name='generate_volume_element', method='extrusion', software='damask'),\n",
       " Task(name='modify_volume_element', method='add_buffer_zones', software='damask'),\n",
       " Task(name='visualise_volume_element', method='VTK', software='damask'),\n",
       " Task(name='generate_load_case', method='uniaxial', software='formable'),\n",
       " Task(name='simulate_volume_element_loading', method='CP_FFT', software='damask')]"
      ]
     },
     "execution_count": 3,
     "metadata": {},
     "output_type": "execute_result"
    }
   ],
   "source": [
    "workflow.tasks"
   ]
  },
  {
   "cell_type": "code",
   "execution_count": 4,
   "metadata": {},
   "outputs": [],
   "source": [
    "vol_elem_resp = workflow.tasks[5].elements[0].outputs.volume_element_response"
   ]
  },
  {
   "cell_type": "code",
   "execution_count": 5,
   "metadata": {},
   "outputs": [],
   "source": [
    "mean_strain = vol_elem_resp['incremental_data']['vol_avg_strain']['data']\n",
    "mean_stress = vol_elem_resp['incremental_data']['vol_avg_stress']['data']"
   ]
  },
  {
   "cell_type": "code",
   "execution_count": 6,
   "metadata": {},
   "outputs": [
    {
     "data": {
      "application/vnd.jupyter.widget-view+json": {
       "model_id": "908c94d64be944d58bec18fb5742391a",
       "version_major": 2,
       "version_minor": 0
      },
      "text/plain": [
       "Canvas(toolbar=Toolbar(toolitems=[('Home', 'Reset original view', 'home', 'home'), ('Back', 'Back to previous …"
      ]
     },
     "metadata": {},
     "output_type": "display_data"
    },
    {
     "data": {
      "text/plain": [
       "[<matplotlib.lines.Line2D at 0x7f6133320ad0>]"
      ]
     },
     "execution_count": 6,
     "metadata": {},
     "output_type": "execute_result"
    }
   ],
   "source": [
    "plt.figure()\n",
    "plt.plot(mean_strain[:, 0, 0], mean_stress[:, 0, 0])"
   ]
  },
  {
   "cell_type": "code",
   "execution_count": 7,
   "metadata": {},
   "outputs": [
    {
     "data": {
      "text/plain": [
       "[10, 20, 30]"
      ]
     },
     "execution_count": 7,
     "metadata": {},
     "output_type": "execute_result"
    }
   ],
   "source": [
    "vol_elem_resp['field_data']['increments']"
   ]
  },
  {
   "cell_type": "code",
   "execution_count": 8,
   "metadata": {},
   "outputs": [
    {
     "name": "stdout",
     "output_type": "stream",
     "text": [
      "(3, 3, 3, 280, 240, 12)\n",
      "(3, 3, 3, 280, 240, 12)\n"
     ]
    }
   ],
   "source": [
    "stress = vol_elem_resp['field_data']['sigma']\n",
    "strain = vol_elem_resp['field_data']['epsilon_U^2(F)']\n",
    "print(stress.shape)\n",
    "print(strain.shape)"
   ]
  },
  {
   "cell_type": "code",
   "execution_count": 11,
   "metadata": {},
   "outputs": [
    {
     "data": {
      "application/vnd.jupyter.widget-view+json": {
       "model_id": "ba8027dd04d54629b82f42ea6c9b0844",
       "version_major": 2,
       "version_minor": 0
      },
      "text/plain": [
       "Canvas(toolbar=Toolbar(toolitems=[('Home', 'Reset original view', 'home', 'home'), ('Back', 'Back to previous …"
      ]
     },
     "metadata": {},
     "output_type": "display_data"
    },
    {
     "data": {
      "text/plain": [
       "<matplotlib.colorbar.Colorbar at 0x7f6132e40950>"
      ]
     },
     "execution_count": 11,
     "metadata": {},
     "output_type": "execute_result"
    }
   ],
   "source": [
    "plt.figure()\n",
    "plt.imshow(stress[2, 0, 0, :, :, 5].T/1e6)\n",
    "plt.colorbar(label='Stress (MPa)')"
   ]
  },
  {
   "cell_type": "code",
   "execution_count": 12,
   "metadata": {},
   "outputs": [
    {
     "data": {
      "application/vnd.jupyter.widget-view+json": {
       "model_id": "3bd5a61566134770aefd65f918438ab6",
       "version_major": 2,
       "version_minor": 0
      },
      "text/plain": [
       "Canvas(toolbar=Toolbar(toolitems=[('Home', 'Reset original view', 'home', 'home'), ('Back', 'Back to previous …"
      ]
     },
     "metadata": {},
     "output_type": "display_data"
    },
    {
     "data": {
      "text/plain": [
       "<matplotlib.colorbar.Colorbar at 0x7f6132f21790>"
      ]
     },
     "execution_count": 12,
     "metadata": {},
     "output_type": "execute_result"
    }
   ],
   "source": [
    "plt.figure()\n",
    "plt.imshow(strain[2, 0, 0, :, :, 5].T)\n",
    "plt.colorbar(label='Strain')"
   ]
  },
  {
   "cell_type": "code",
   "execution_count": null,
   "metadata": {},
   "outputs": [],
   "source": []
  }
 ],
 "metadata": {
  "kernelspec": {
   "display_name": "Python 3",
   "language": "python",
   "name": "python3"
  },
  "language_info": {
   "codemirror_mode": {
    "name": "ipython",
    "version": 3
   },
   "file_extension": ".py",
   "mimetype": "text/x-python",
   "name": "python",
   "nbconvert_exporter": "python",
   "pygments_lexer": "ipython3",
   "version": "3.7.8"
  }
 },
 "nbformat": 4,
 "nbformat_minor": 4
}
